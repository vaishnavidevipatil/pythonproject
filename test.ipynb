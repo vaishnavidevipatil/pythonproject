{
 "cells": [
  {
   "cell_type": "code",
   "execution_count": 10,
   "metadata": {},
   "outputs": [
    {
     "name": "stdout",
     "output_type": "stream",
     "text": [
      "Your are connected to the database successful\n",
      "[(1, 'bindu', 'patil', 1, 'female', 29324894), (2, 'vaish', 'devi', 2, 'F', 25433453), (3, 'Rakesh', 'Patil', 4, 'M', 22432454), (4, 'papampathi', 'Patil', 5, 'M', 42343545)]\n"
     ]
    },
    {
     "data": {
      "text/plain": [
       "True"
      ]
     },
     "execution_count": 10,
     "metadata": {},
     "output_type": "execute_result"
    }
   ],
   "source": [
    "import mysql.connector\n",
    "\n",
    "# Create a connection object\n",
    "my_conn = mysql.connector.connect(host=\"localhost\", user=\"root\", password=\"Mysql@2024\", database=\"mysqltut\")\n",
    "\n",
    "# Create a cursor object\n",
    "cursor = my_conn.cursor()\n",
    "\n",
    "# Execute a query\n",
    "cursor.execute(\"SELECT * FROM mysqltut.students\")\n",
    "# Extract result\n",
    "myresult = cursor.fetchall()\n",
    "\n",
    "cursor = my_conn.cursor()\n",
    "print(\"Your are connected to the database successful\")\n",
    "print(myresult)\n",
    "# Close the cursor and connection objects\n",
    "cursor.close()\n",
    "# my_conn.close()"
   ]
  },
  {
   "cell_type": "code",
   "execution_count": 11,
   "metadata": {},
   "outputs": [],
   "source": [
    "import pandas as pd\n",
    "\n"
   ]
  },
  {
   "cell_type": "code",
   "execution_count": 12,
   "metadata": {},
   "outputs": [
    {
     "data": {
      "text/html": [
       "<div>\n",
       "<style scoped>\n",
       "    .dataframe tbody tr th:only-of-type {\n",
       "        vertical-align: middle;\n",
       "    }\n",
       "\n",
       "    .dataframe tbody tr th {\n",
       "        vertical-align: top;\n",
       "    }\n",
       "\n",
       "    .dataframe thead th {\n",
       "        text-align: right;\n",
       "    }\n",
       "</style>\n",
       "<table border=\"1\" class=\"dataframe\">\n",
       "  <thead>\n",
       "    <tr style=\"text-align: right;\">\n",
       "      <th></th>\n",
       "      <th>0</th>\n",
       "      <th>1</th>\n",
       "      <th>2</th>\n",
       "      <th>3</th>\n",
       "      <th>4</th>\n",
       "      <th>5</th>\n",
       "    </tr>\n",
       "  </thead>\n",
       "  <tbody>\n",
       "    <tr>\n",
       "      <th>0</th>\n",
       "      <td>1</td>\n",
       "      <td>bindu</td>\n",
       "      <td>patil</td>\n",
       "      <td>1</td>\n",
       "      <td>female</td>\n",
       "      <td>29324894</td>\n",
       "    </tr>\n",
       "    <tr>\n",
       "      <th>1</th>\n",
       "      <td>2</td>\n",
       "      <td>vaish</td>\n",
       "      <td>devi</td>\n",
       "      <td>2</td>\n",
       "      <td>F</td>\n",
       "      <td>25433453</td>\n",
       "    </tr>\n",
       "    <tr>\n",
       "      <th>2</th>\n",
       "      <td>3</td>\n",
       "      <td>Rakesh</td>\n",
       "      <td>Patil</td>\n",
       "      <td>4</td>\n",
       "      <td>M</td>\n",
       "      <td>22432454</td>\n",
       "    </tr>\n",
       "    <tr>\n",
       "      <th>3</th>\n",
       "      <td>4</td>\n",
       "      <td>papampathi</td>\n",
       "      <td>Patil</td>\n",
       "      <td>5</td>\n",
       "      <td>M</td>\n",
       "      <td>42343545</td>\n",
       "    </tr>\n",
       "  </tbody>\n",
       "</table>\n",
       "</div>"
      ],
      "text/plain": [
       "   0           1      2  3       4         5\n",
       "0  1       bindu  patil  1  female  29324894\n",
       "1  2       vaish   devi  2       F  25433453\n",
       "2  3      Rakesh  Patil  4       M  22432454\n",
       "3  4  papampathi  Patil  5       M  42343545"
      ]
     },
     "execution_count": 12,
     "metadata": {},
     "output_type": "execute_result"
    }
   ],
   "source": [
    "pd.DataFrame(myresult)"
   ]
  },
  {
   "cell_type": "code",
   "execution_count": 13,
   "metadata": {},
   "outputs": [
    {
     "name": "stderr",
     "output_type": "stream",
     "text": [
      "C:\\Users\\vaish\\AppData\\Local\\Temp\\ipykernel_1876\\2060342594.py:1: UserWarning: pandas only supports SQLAlchemy connectable (engine/connection) or database string URI or sqlite3 DBAPI2 connection. Other DBAPI2 objects are not tested. Please consider using SQLAlchemy.\n",
      "  df = pd.read_sql(\"SELECT * FROM mysqltut.students\",con= my_conn)\n"
     ]
    }
   ],
   "source": [
    "\n",
    "df = pd.read_sql(\"SELECT * FROM mysqltut.students\",con= my_conn)\n",
    "my_conn.close()"
   ]
  },
  {
   "cell_type": "code",
   "execution_count": 17,
   "metadata": {},
   "outputs": [
    {
     "data": {
      "text/plain": [
       "[{'SL.NO': 1,\n",
       "  'FIRSTNAME': 'bindu',\n",
       "  'LASTNAME': 'patil',\n",
       "  'ROLLNO': 1,\n",
       "  'GENDER': 'female',\n",
       "  'PHONENO': 29324894},\n",
       " {'SL.NO': 2,\n",
       "  'FIRSTNAME': 'vaish',\n",
       "  'LASTNAME': 'devi',\n",
       "  'ROLLNO': 2,\n",
       "  'GENDER': 'F',\n",
       "  'PHONENO': 25433453},\n",
       " {'SL.NO': 3,\n",
       "  'FIRSTNAME': 'Rakesh',\n",
       "  'LASTNAME': 'Patil',\n",
       "  'ROLLNO': 4,\n",
       "  'GENDER': 'M',\n",
       "  'PHONENO': 22432454},\n",
       " {'SL.NO': 4,\n",
       "  'FIRSTNAME': 'papampathi',\n",
       "  'LASTNAME': 'Patil',\n",
       "  'ROLLNO': 5,\n",
       "  'GENDER': 'M',\n",
       "  'PHONENO': 42343545}]"
      ]
     },
     "execution_count": 17,
     "metadata": {},
     "output_type": "execute_result"
    }
   ],
   "source": [
    "df.to_dict(\"records\")"
   ]
  }
 ],
 "metadata": {
  "kernelspec": {
   "display_name": "venv",
   "language": "python",
   "name": "python3"
  },
  "language_info": {
   "codemirror_mode": {
    "name": "ipython",
    "version": 3
   },
   "file_extension": ".py",
   "mimetype": "text/x-python",
   "name": "python",
   "nbconvert_exporter": "python",
   "pygments_lexer": "ipython3",
   "version": "3.11.6"
  }
 },
 "nbformat": 4,
 "nbformat_minor": 2
}
